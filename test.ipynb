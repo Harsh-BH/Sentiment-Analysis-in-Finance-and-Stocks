{
 "cells": [
  {
   "cell_type": "code",
   "execution_count": null,
   "metadata": {},
   "outputs": [],
   "source": [
    "import numpy as np\n",
    "import joblib\n",
    "\n",
    "# Load the saved model\n",
    "model_path = 'K:\\Sentiment-Analysis-in-Finance-and-Stocks\\model.pkl'  # or 'path_to_your_model.joblib'\n",
    "model = joblib.load(model_path)\n",
    "\n",
    "# Define the input tweets\n",
    "tweets_input = np.array([\n",
    "    \"@BillyM2k 🤣🤣\",\n",
    "    \"From the top of Starbase high bay https://t.co/kRtJBrwrqW\",\n",
    "    \"RT @cleantechnica: Jay Leno Breaks World Record In Tesla’s New Plaid Model S – “I Love This Car” https://t.co/Rxd7VNIZpx\",\n",
    "    \"Stacking Super Heavy Aft Section https://t.co/itydacQ4hM\",\n",
    "    \"@MileyCyrus 133T H4X0R got my phone. Nuthin I could do. Sorry babe.\",\n",
    "    \"@tobyliiiiiiiii @f_rmnn Cool\"\n",
    "])\n",
    "\n",
    "# Preprocess the input if necessary\n",
    "# For example, if the model requires vectorized inputs, you need to use a vectorizer\n",
    "# vectorizer = joblib.load('path_to_your_vectorizer.pkl')\n",
    "# tweets_input_vectorized = vectorizer.transform(tweets_input)\n",
    "\n",
    "# Make predictions\n",
    "predictions = model.predict(tweets_input_vectorized)\n",
    "print(predictions)\n"
   ]
  }
 ],
 "metadata": {
  "language_info": {
   "name": "python"
  }
 },
 "nbformat": 4,
 "nbformat_minor": 2
}
